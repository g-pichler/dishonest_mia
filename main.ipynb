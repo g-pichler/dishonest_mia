{
 "cells": [
  {
   "cell_type": "code",
   "execution_count": null,
   "id": "bad2893c",
   "metadata": {},
   "outputs": [],
   "source": [
    "import main\n",
    "import pandas as pd\n",
    "import json\n",
    "import logging\n",
    "import util\n",
    "import process\n",
    "\n",
    "\n",
    "for lib in ('flower', 'matplotlib'):\n",
    "    logging.getLogger(lib).setLevel(level=logging.WARN)\n",
    "logging.basicConfig()\n",
    "logging.getLogger().setLevel(logging.INFO)\n"
   ]
  },
  {
   "cell_type": "code",
   "execution_count": null,
   "id": "3b9ac1a9",
   "metadata": {},
   "outputs": [],
   "source": [
    "# Configure your run here\n",
    "\n",
    "params = ['param.batchsize=32',\n",
    "          'param.batches=128',\n",
    "          'param.epsilon=0.001',\n",
    "          'param.runs=10',\n",
    "          'param.epochs=1',\n",
    "          'param.top_j=2',\n",
    "          'optimizer=SGD',\n",
    "          'dataset=MNIST',\n",
    "          'eval.threshold=0.1',\n",
    "          \n",
    "          #'runtime.output_dir=./output', # Where to save the results\n",
    "          #'runtime.dataset_dir=./datasets', # Where to load the datasets\n",
    "         ]\n",
    "\n",
    "args = util.get_config(params)\n",
    "\n"
   ]
  },
  {
   "cell_type": "markdown",
   "id": "f4f3f4de",
   "metadata": {},
   "source": [
    "The dataset will be downloaded if not available in the current directory. When performing the experiment on `CelebA`, the data might need to be downloaded manually due to a [bug](https://github.com/pytorch/vision/issues/2262)."
   ]
  },
  {
   "cell_type": "code",
   "execution_count": null,
   "id": "aac5ab2a",
   "metadata": {},
   "outputs": [],
   "source": [
    "# Run training\n",
    "main.main(args)"
   ]
  },
  {
   "cell_type": "code",
   "execution_count": null,
   "id": "b86ee0b2",
   "metadata": {},
   "outputs": [],
   "source": [
    "# Plot resulting ROC curve\n",
    "util.plot_roc(args)"
   ]
  },
  {
   "cell_type": "code",
   "execution_count": null,
   "id": "179ac17a",
   "metadata": {},
   "outputs": [],
   "source": [
    "# Process all results for everything done so far\n",
    "results_json = process.main(args)\n",
    "# or use data obtained when producing the paper\n",
    "#results_json = 'results.orig.json' \n",
    "with open(results_json, 'r') as fp:\n",
    "    results = json.load(fp)\n",
    "df = util.dict_to_table(results)"
   ]
  },
  {
   "cell_type": "markdown",
   "id": "77bb4335",
   "metadata": {},
   "source": [
    "You can use pandas to display the results of various configurations (in variable `df`).\n",
    "Pandas [indexing](https://pandas.pydata.org/pandas-docs/stable/user_guide/indexing.html) can be used as showcased.\n",
    "\n",
    "The following columns are available:\n",
    "\n",
    "| Name    | Content |\n",
    "| :---     | :---     |\n",
    "| Batches | Number of batches per epoch |\n",
    "| Batch size | Size of each batch |\n",
    "| Ep. | Number of epochs |\n",
    "| Opt. | Optimizer (SGD or Adam) |\n",
    "| Dataset | MNIST, CIFAR10, CIFAR100 or CelebA |\n",
    "| M | Number of values chose for the attack |\n",
    "| epsilon | Constant bias selected for the output neuron |\n",
    "| runs | Number of runs conducted (for each t=0/1) |\n",
    "| FPR/FNR/Acc. | False Negative Rate, False Positive Rate and Accuracy with xi as chose above |\n",
    "| AUC | Area under the receiver operating characteristic curve |\n"
   ]
  },
  {
   "cell_type": "code",
   "execution_count": null,
   "id": "3c0dff23",
   "metadata": {},
   "outputs": [],
   "source": [
    "selector =   (df['Opt.']    == args.param.optimizer) \\\n",
    "           & (df['Dataset'] == args.param.dataset) \\\n",
    "           & (df['Ep.']     == args.param.epochs)\n",
    "\n",
    "df[selector]"
   ]
  }
 ],
 "metadata": {
  "kernelspec": {
   "display_name": "python39",
   "language": "python",
   "name": "python39"
  },
  "language_info": {
   "codemirror_mode": {
    "name": "ipython",
    "version": 3
   },
   "file_extension": ".py",
   "mimetype": "text/x-python",
   "name": "python",
   "nbconvert_exporter": "python",
   "pygments_lexer": "ipython3",
   "version": "3.9.10"
  }
 },
 "nbformat": 4,
 "nbformat_minor": 5
}
